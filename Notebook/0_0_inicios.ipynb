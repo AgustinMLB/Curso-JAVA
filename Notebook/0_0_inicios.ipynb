{
 "cells": [
  {
   "cell_type": "markdown",
   "metadata": {},
   "source": [
    "# Instalación del Kernel de Java para Jupyter Notebook en Windows"
   ]
  },
  {
   "cell_type": "markdown",
   "metadata": {},
   "source": [
    "## Pasos Previos\n",
    "\n",
    "1. **Verificar la instalación de Java**: Abre la `Símbolo del sistema` y ejecuta `java -version`. Si Java no está instalado, descárgalo desde [el sitio web oficial de Java](https://www.oracle.com/java/technologies/javase-jdk11-downloads.html) e instálalo.\n",
    "   \n",
    "2. **Instalar Jupyter Notebook**: Si no tienes Jupyter Notebook instalado, abre la `Símbolo del sistema` y ejecuta `pip install notebook`.\n",
    "   \n",
    "3. **Instalar Git**: Si no tienes Git, puedes descargarlo e instalarlo desde [el sitio web oficial de Git](https://git-scm.com/).\n"
   ]
  },
  {
   "cell_type": "markdown",
   "metadata": {},
   "source": [
    "## Instalar el Kernel de Java para Jupyter\n",
    "1. **Descargar IJava**: Abre tu navegador y ve al [repositorio de GitHub de IJava](https://github.com/SpencerPark/IJava/releases). Descarga el archivo `.jar` más reciente.\n",
    "\n",
    "2. **Instalar el Kernel**: \n",
    "    - Abre `Símbolo del sistema` como administrador.\n",
    "    - Navega hasta la ubicación donde descargaste el archivo `.jar`.\n",
    "    - Ejecuta el siguiente comando: `java -jar ijava-*-install.jar`.\n"
   ]
  },
  {
   "cell_type": "markdown",
   "metadata": {},
   "source": []
  }
 ],
 "metadata": {
  "language_info": {
   "name": "python"
  },
  "orig_nbformat": 4
 },
 "nbformat": 4,
 "nbformat_minor": 2
}
